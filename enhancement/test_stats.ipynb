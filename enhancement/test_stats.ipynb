{
 "cells": [
  {
   "cell_type": "markdown",
   "id": "73462721",
   "metadata": {},
   "source": [
    "## Script to compute mean and median pixel value of test data"
   ]
  },
  {
   "cell_type": "code",
   "execution_count": 9,
   "id": "b453295f",
   "metadata": {},
   "outputs": [],
   "source": [
    "import numpy as np\n",
    "import os\n",
    "import math\n",
    "from PIL import Image"
   ]
  },
  {
   "cell_type": "code",
   "execution_count": 7,
   "id": "ef5e984a",
   "metadata": {},
   "outputs": [
    {
     "name": "stdout",
     "output_type": "stream",
     "text": [
      "41\n"
     ]
    }
   ],
   "source": [
    "test_dir = '/home/gpu/girish/dataset/OUTDOOR_RGB/low_light/1_200/png/cam1/adobe'\n",
    "\n",
    "filenames = sorted(os.listdir(test_dir))\n",
    "img_files = filenames[math.ceil(len(filenames)*0.8):]\n",
    "print(len(img_files))"
   ]
  },
  {
   "cell_type": "code",
   "execution_count": 23,
   "id": "1c6fc9cb",
   "metadata": {},
   "outputs": [],
   "source": [
    "def mean_pixel_value(img):\n",
    "    '''given an image (PIL image) it computes the mean pixel value across each channel'''\n",
    "    \n",
    "    img = np.array(img)\n",
    "    return np.mean(img, axis=(0,1))\n",
    "\n",
    "def median_pixel_value(img):\n",
    "    '''given an image (PIL image) it computes the median pixel value across each channel'''\n",
    "    \n",
    "    img = np.array(img)\n",
    "    return np.median(img, axis=(0,1))"
   ]
  },
  {
   "cell_type": "code",
   "execution_count": 24,
   "id": "dc4834c0",
   "metadata": {},
   "outputs": [],
   "source": [
    "means, medians = [], []\n",
    "\n",
    "for img_file in img_files:\n",
    "    means.append(mean_pixel_value(Image.open(os.path.join(test_dir,img_file))))\n",
    "    medians.append(median_pixel_value(Image.open(os.path.join(test_dir,img_file))))\n"
   ]
  },
  {
   "cell_type": "code",
   "execution_count": 32,
   "id": "0e267ace",
   "metadata": {},
   "outputs": [
    {
     "name": "stdout",
     "output_type": "stream",
     "text": [
      "Average mean:  [0.1936682  0.43519958 0.32729176]\n",
      "Average median:  [0. 0. 0.]\n"
     ]
    }
   ],
   "source": [
    "print('Average mean: ',np.mean(np.stack(means), axis=0))\n",
    "print('Average median: ',np.mean(np.stack(medians), axis=0))"
   ]
  },
  {
   "cell_type": "code",
   "execution_count": null,
   "id": "022637df",
   "metadata": {},
   "outputs": [],
   "source": []
  }
 ],
 "metadata": {
  "kernelspec": {
   "display_name": "Python 3 (ipykernel)",
   "language": "python",
   "name": "python3"
  },
  "language_info": {
   "codemirror_mode": {
    "name": "ipython",
    "version": 3
   },
   "file_extension": ".py",
   "mimetype": "text/x-python",
   "name": "python",
   "nbconvert_exporter": "python",
   "pygments_lexer": "ipython3",
   "version": "3.8.10"
  }
 },
 "nbformat": 4,
 "nbformat_minor": 5
}
